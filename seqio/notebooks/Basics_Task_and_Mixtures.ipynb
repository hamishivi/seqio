{
  "cells": [
    {
      "cell_type": "markdown",
      "metadata": {
        "id": "98eBlg4oz-KU"
      },
      "source": [
        "\n",
        "\u003ca href=\"https://colab.research.google.com/github/google/seqio/blob/main/seqio/notebooks/Basics_Task_and_Mixtures.ipynb\" target=\"_parent\"\u003e\u003cimg src=\"https://colab.research.google.com/assets/colab-badge.svg\" alt=\"Open In Colab\"/\u003e\u003c/a\u003e"
      ]
    },
    {
      "cell_type": "code",
      "execution_count": null,
      "metadata": {
        "id": "GXNolh1Xmaro"
      },
      "outputs": [],
      "source": [
        "print(\"Installing dependencies...\")\n",
        "!pip install seqio-nightly\n",
        "\n",
        "import seqio\n",
        "import tensorflow as tf\n",
        "import functools"
      ]
    },
    {
      "cell_type": "markdown",
      "metadata": {
        "id": "MJvOvYm4Ia-e"
      },
      "source": [
        "# s1. define simplest seqio.Task\n",
        "\n",
        "Let’s define the simplest SeqIO Task that just reads data from a TFDS dataset, no preprocessing."
      ]
    },
    {
      "cell_type": "code",
      "execution_count": null,
      "metadata": {
        "executionInfo": {
          "elapsed": 59,
          "status": "ok",
          "timestamp": 1656695980761,
          "user": {
            "displayName": "",
            "userId": ""
          },
          "user_tz": 420
        },
        "id": "dietweSJH4bH",
        "outputId": "df1cfb38-285c-4aec-cb7d-119f48fb5252"
      },
      "outputs": [
        {
          "data": {
            "text/plain": [
              "\u003cseqio.dataset_providers.Task at 0x7fde663c55b0\u003e"
            ]
          },
          "execution_count": 2,
          "metadata": {},
          "output_type": "execute_result"
        }
      ],
      "source": [
        "seqio.TaskRegistry.add(\n",
        "   'my_simple_task',\n",
        "   source=seqio.TfdsDataSource('natural_questions_open:1.0.0'),\n",
        "   output_features={}\n",
        ")\n"
      ]
    },
    {
      "cell_type": "markdown",
      "metadata": {
        "id": "Jwj7Xu51JJJt"
      },
      "source": [
        "then we get the task from the registry, get the dataset from the task, and see a batch of data."
      ]
    },
    {
      "cell_type": "code",
      "execution_count": null,
      "metadata": {
        "executionInfo": {
          "elapsed": 23435,
          "status": "ok",
          "timestamp": 1656696004345,
          "user": {
            "displayName": "",
            "userId": ""
          },
          "user_tz": 420
        },
        "id": "Y5JcJFslIWA8",
        "outputId": "d7820e4f-c54a-4188-bfbf-2c8ae531f710"
      },
      "outputs": [
        {
          "data": {
            "text/plain": [
              "[{'answer': array([b'Romi Van Renterghem.'], dtype=object),\n",
              "  'question': b'who is the girl in more than you know'}]"
            ]
          },
          "execution_count": 3,
          "metadata": {},
          "output_type": "execute_result"
        }
      ],
      "source": [
        "task = seqio.TaskRegistry.get('my_simple_task')\n",
        "ds = task.get_dataset(sequence_length=None, split=\"train\", shuffle=False)\n",
        "list(ds.take(1).as_numpy_iterator())"
      ]
    },
    {
      "cell_type": "markdown",
      "metadata": {
        "id": "QTyxusscJgwO"
      },
      "source": [
        "#s2. add preprocessors\n",
        "\n",
        "To make it more ready for sequence modeling, we need change a few things. \n",
        "\n",
        "- We'd like data batch to have keys `inputs` and `targets` instead of `question` and `answer` to make the naming less task-dependent. This can be done by `seqio.preprocessors.rekey()`.\n",
        "\n",
        "- The `answer` field is currently a list of sequences (texts), whereas modeling often assumes there's only one output sequence. We need to sample a single sequence from the list.\n",
        "\n",
        "- We need to tokenize both `inputs` and `targets`, for which we can use `seqio.preprocessors.tokenize` and supply a seqio vocabulary."
      ]
    },
    {
      "cell_type": "markdown",
      "metadata": {
        "id": "MSvEpRPNMk--"
      },
      "source": [
        "## s2.1 add rekey"
      ]
    },
    {
      "cell_type": "code",
      "execution_count": null,
      "metadata": {
        "executionInfo": {
          "elapsed": 61,
          "status": "ok",
          "timestamp": 1656696004590,
          "user": {
            "displayName": "",
            "userId": ""
          },
          "user_tz": 420
        },
        "id": "vBeauNFRMdCu",
        "outputId": "c67600c8-93f8-48a4-9ca0-7cebae06e393"
      },
      "outputs": [
        {
          "data": {
            "text/plain": [
              "\u003cseqio.dataset_providers.Task at 0x7fde3cb53d30\u003e"
            ]
          },
          "execution_count": 4,
          "metadata": {},
          "output_type": "execute_result"
        }
      ],
      "source": [
        "seqio.TaskRegistry.remove('my_simple_task')\n",
        "seqio.TaskRegistry.add(\n",
        "    'my_simple_task',\n",
        "    source=seqio.TfdsDataSource('natural_questions_open:1.0.0'),\n",
        "    preprocessors=[\n",
        "       functools.partial(\n",
        "           seqio.preprocessors.rekey,\n",
        "           key_map={\n",
        "               'inputs': 'question',\n",
        "               'targets': 'answer',\n",
        "           }),\n",
        "   ],\n",
        "    output_features={}\n",
        ")"
      ]
    },
    {
      "cell_type": "markdown",
      "metadata": {
        "id": "iPjSc6MsM9t3"
      },
      "source": [
        "we check the same batch of the data and will see the keys are changed to `inputs` and `targets`."
      ]
    },
    {
      "cell_type": "code",
      "execution_count": null,
      "metadata": {
        "executionInfo": {
          "elapsed": 933,
          "status": "ok",
          "timestamp": 1656696006003,
          "user": {
            "displayName": "",
            "userId": ""
          },
          "user_tz": 420
        },
        "id": "kHyjVkUdMimJ",
        "outputId": "946b6dfd-edd4-4caa-ec14-780530743787"
      },
      "outputs": [
        {
          "data": {
            "text/plain": [
              "[{'inputs': b'who is the girl in more than you know',\n",
              "  'targets': array([b'Romi Van Renterghem.'], dtype=object)}]"
            ]
          },
          "execution_count": 5,
          "metadata": {},
          "output_type": "execute_result"
        }
      ],
      "source": [
        "task = seqio.TaskRegistry.get('my_simple_task')\n",
        "ds = task.get_dataset(sequence_length=None, split=\"train\", shuffle=False)\n",
        "list(ds.take(1).as_numpy_iterator())"
      ]
    },
    {
      "cell_type": "markdown",
      "metadata": {
        "id": "2RetZ1l2NKb_"
      },
      "source": [
        "## s2.2 sample one sequence from answers/targets"
      ]
    },
    {
      "cell_type": "markdown",
      "metadata": {
        "id": "MTKC5N0TNXXt"
      },
      "source": [
        "Here we need to define our own preprocessor function using `seqio.map_over_dataset`."
      ]
    },
    {
      "cell_type": "code",
      "execution_count": null,
      "metadata": {
        "id": "0fLU9jJzoIBe"
      },
      "outputs": [],
      "source": [
        "# seqio.map_over_dataset is decorator to map decorated function \n",
        "# (e.g., sample_from_answers below) over all examples in a dataset.\n",
        "# for details, please refer to seqio.map_over_dataset() documentation.\n",
        "@seqio.map_over_dataset(num_seeds=1)\n",
        "def sample_from_answers(x, seed):\n",
        " answers = x['targets']\n",
        " sample_id = tf.random.stateless_uniform([],\n",
        "                                         seed=seed,\n",
        "                                         minval=0,\n",
        "                                         maxval=len(answers),\n",
        "                                         dtype=tf.int32)\n",
        " x['targets'] = answers[sample_id]\n",
        " return x\n"
      ]
    },
    {
      "cell_type": "markdown",
      "metadata": {
        "id": "gmzYXllNNuA5"
      },
      "source": [
        "the preprocessor `sample_from_answers` can be added after `seqio.preprocessors.rekey` so that seqio will execute them in the order listed."
      ]
    },
    {
      "cell_type": "code",
      "execution_count": null,
      "metadata": {
        "executionInfo": {
          "elapsed": 76,
          "status": "ok",
          "timestamp": 1656696006433,
          "user": {
            "displayName": "",
            "userId": ""
          },
          "user_tz": 420
        },
        "id": "aq4sWpPJNiGp",
        "outputId": "107c8ae8-282c-4cfa-af05-b4b8ad4373d8"
      },
      "outputs": [
        {
          "data": {
            "text/plain": [
              "\u003cseqio.dataset_providers.Task at 0x7fde476dfa90\u003e"
            ]
          },
          "execution_count": 7,
          "metadata": {},
          "output_type": "execute_result"
        }
      ],
      "source": [
        "seqio.TaskRegistry.remove('my_simple_task')\n",
        "seqio.TaskRegistry.add(\n",
        "    'my_simple_task',\n",
        "    source=seqio.TfdsDataSource('natural_questions_open:1.0.0'),\n",
        "    preprocessors=[\n",
        "       functools.partial(\n",
        "           seqio.preprocessors.rekey,\n",
        "           key_map={\n",
        "               'inputs': 'question',\n",
        "               'targets': 'answer',\n",
        "           }),\n",
        "       sample_from_answers,\n",
        "   ],\n",
        "    output_features={}\n",
        ")"
      ]
    },
    {
      "cell_type": "markdown",
      "metadata": {
        "id": "QzCBDlhxOTsQ"
      },
      "source": [
        "we check the same batch of the data and should see there's only one string in the `targets` field."
      ]
    },
    {
      "cell_type": "code",
      "execution_count": null,
      "metadata": {
        "executionInfo": {
          "elapsed": 998,
          "status": "ok",
          "timestamp": 1656696007594,
          "user": {
            "displayName": "",
            "userId": ""
          },
          "user_tz": 420
        },
        "id": "Layv651QNonP",
        "outputId": "022f09c2-d794-4a9f-beeb-69773cbccae6"
      },
      "outputs": [
        {
          "data": {
            "text/plain": [
              "[{'inputs': b'who is the girl in more than you know',\n",
              "  'targets': b'Romi Van Renterghem.'}]"
            ]
          },
          "execution_count": 8,
          "metadata": {},
          "output_type": "execute_result"
        }
      ],
      "source": [
        "task = seqio.TaskRegistry.get('my_simple_task')\n",
        "ds = task.get_dataset(sequence_length=None, split=\"train\", shuffle=False)\n",
        "list(ds.take(1).as_numpy_iterator())"
      ]
    },
    {
      "cell_type": "markdown",
      "metadata": {
        "id": "vuOpZG8jOI9E"
      },
      "source": [
        "## s2.3 tokenize `inputs` and `targets`"
      ]
    },
    {
      "cell_type": "markdown",
      "metadata": {
        "id": "jyf5-TOLO1JZ"
      },
      "source": [
        "We will use a common vocabulary `SentencePieceVocabulary` here to tokenize the sequences."
      ]
    },
    {
      "cell_type": "code",
      "execution_count": null,
      "metadata": {
        "id": "nCjP1WBqqbHf"
      },
      "outputs": [],
      "source": [
        "sentencepiece_model_file = \"gs://t5-data/vocabs/cc_all.32000.100extra/sentencepiece.model\"\n",
        "vocab = seqio.SentencePieceVocabulary(sentencepiece_model_file)"
      ]
    },
    {
      "cell_type": "code",
      "execution_count": null,
      "metadata": {
        "executionInfo": {
          "elapsed": 55,
          "status": "ok",
          "timestamp": 1656696024101,
          "user": {
            "displayName": "",
            "userId": ""
          },
          "user_tz": 420
        },
        "id": "_j_eb3HPmeNs",
        "outputId": "4a866ad7-b508-4902-961d-b5fa3c64db83"
      },
      "outputs": [
        {
          "data": {
            "text/plain": [
              "\u003cseqio.dataset_providers.Task at 0x7fde3cb539d0\u003e"
            ]
          },
          "execution_count": 10,
          "metadata": {},
          "output_type": "execute_result"
        }
      ],
      "source": [
        "seqio.TaskRegistry.remove('my_simple_task')\n",
        "seqio.TaskRegistry.add(\n",
        "    'my_simple_task',\n",
        "    source=seqio.TfdsDataSource('natural_questions_open:1.0.0'),\n",
        "    preprocessors=[\n",
        "       functools.partial(\n",
        "           seqio.preprocessors.rekey,\n",
        "           key_map={\n",
        "               'inputs': 'question',\n",
        "               'targets': 'answer',\n",
        "           }),\n",
        "       sample_from_answers,\n",
        "       seqio.preprocessors.tokenize,\n",
        "   ],\n",
        "    output_features={\n",
        "        'inputs': seqio.Feature(vocabulary=vocab),\n",
        "        'targets': seqio.Feature(vocabulary=vocab),\n",
        "    }\n",
        ")"
      ]
    },
    {
      "cell_type": "markdown",
      "metadata": {
        "id": "jdEfwMRjPGzx"
      },
      "source": [
        "we check the same batch of the data and should see the `inputs` and `targets` become tokenized sequences (arrays of integers). We also keep the original `inputs` and `targets` in `inputs_pretokenized` and `targets_pretokenized` fields."
      ]
    },
    {
      "cell_type": "code",
      "execution_count": null,
      "metadata": {
        "executionInfo": {
          "elapsed": 2451,
          "status": "ok",
          "timestamp": 1656696028481,
          "user": {
            "displayName": "",
            "userId": ""
          },
          "user_tz": 420
        },
        "id": "dy0R8GCdmqtG",
        "outputId": "675958fe-f67f-4d4c-d325-3fd7085cf81e"
      },
      "outputs": [
        {
          "data": {
            "text/plain": [
              "[{'inputs': array([ 113,   19,    8, 3202,   16,   72,  145,   25,  214], dtype=int32),\n",
              "  'inputs_pretokenized': b'who is the girl in more than you know',\n",
              "  'targets': array([12583,    23,  4480,  9405,    49,   122,  6015,     5],\n",
              "        dtype=int32),\n",
              "  'targets_pretokenized': b'Romi Van Renterghem.'}]"
            ]
          },
          "execution_count": 11,
          "metadata": {},
          "output_type": "execute_result"
        }
      ],
      "source": [
        "task = seqio.TaskRegistry.get('my_simple_task')\n",
        "ds = task.get_dataset(sequence_length=None, split=\"train\", shuffle=False)\n",
        "list(ds.take(1).as_numpy_iterator())"
      ]
    },
    {
      "cell_type": "markdown",
      "metadata": {
        "id": "0Nq9C-9IPoIi"
      },
      "source": [
        "# s3. define a Mixture\n",
        "\n",
        "To make a seqio Mixture, we need at least two tasks. So let's define another one same as `my_simple_task` but name it as `my_simple_task2`."
      ]
    },
    {
      "cell_type": "code",
      "execution_count": null,
      "metadata": {
        "executionInfo": {
          "elapsed": 56,
          "status": "ok",
          "timestamp": 1656696037860,
          "user": {
            "displayName": "",
            "userId": ""
          },
          "user_tz": 420
        },
        "id": "Lw3X2bgfosUD",
        "outputId": "06f35372-93d8-4d1d-835d-f86513d2cfce"
      },
      "outputs": [
        {
          "data": {
            "text/plain": [
              "\u003cseqio.dataset_providers.Task at 0x7fde471cea90\u003e"
            ]
          },
          "execution_count": 12,
          "metadata": {},
          "output_type": "execute_result"
        }
      ],
      "source": [
        "seqio.TaskRegistry.remove('my_simple_task2')\n",
        "seqio.TaskRegistry.add(\n",
        "    'my_simple_task2',\n",
        "    source=seqio.TfdsDataSource('natural_questions_open:1.0.0'),\n",
        "    preprocessors=[\n",
        "       functools.partial(\n",
        "           seqio.preprocessors.rekey,\n",
        "           key_map={\n",
        "               'inputs': 'question',\n",
        "               'targets': 'answer',\n",
        "           }),\n",
        "       sample_from_answers,\n",
        "       seqio.preprocessors.tokenize,\n",
        "   ],\n",
        "    output_features={\n",
        "        'inputs': seqio.Feature(vocabulary=vocab),\n",
        "        'targets': seqio.Feature(vocabulary=vocab),\n",
        "    }\n",
        ")"
      ]
    },
    {
      "cell_type": "code",
      "execution_count": null,
      "metadata": {
        "executionInfo": {
          "elapsed": 56,
          "status": "ok",
          "timestamp": 1656696040014,
          "user": {
            "displayName": "",
            "userId": ""
          },
          "user_tz": 420
        },
        "id": "KiTghl5YseJ9",
        "outputId": "24378820-ada3-46af-824b-f86e6b158a5f"
      },
      "outputs": [
        {
          "data": {
            "text/plain": [
              "\u003cseqio.dataset_providers.Mixture at 0x7fde3a85b3a0\u003e"
            ]
          },
          "execution_count": 13,
          "metadata": {},
          "output_type": "execute_result"
        }
      ],
      "source": [
        "seqio.MixtureRegistry.add(\n",
        "    'my_simple_mixture',\n",
        "    [('my_simple_task', 0.5), 'my_simple_task2'],\n",
        "    default_rate=1.0\n",
        ")"
      ]
    },
    {
      "cell_type": "code",
      "execution_count": null,
      "metadata": {
        "executionInfo": {
          "elapsed": 1754,
          "status": "ok",
          "timestamp": 1656696043588,
          "user": {
            "displayName": "",
            "userId": ""
          },
          "user_tz": 420
        },
        "id": "RFRJqf8Uslq7",
        "outputId": "b6f3f12c-0e40-475d-b4d6-9ccb6aac0a08"
      },
      "outputs": [
        {
          "data": {
            "text/plain": [
              "[{'inputs': array([ 113,   19,    8, 3202,   16,   72,  145,   25,  214], dtype=int32),\n",
              "  'targets': array([12583,    23,  4480,  9405,    49,   122,  6015,     5],\n",
              "        dtype=int32)},\n",
              " {'inputs': array([  116,   405,   467,   147,   388,   369,    91,    30,  3134,\n",
              "            89, 17591], dtype=int32),\n",
              "  'targets': array([ 1332, 12992,   846], dtype=int32)},\n",
              " {'inputs': array([ 116,   47,    8,    3, 5397,   15,   13,    8, 4913, 8769,   52,\n",
              "         1545], dtype=int32),\n",
              "  'targets': array([1003, 4327,  104, 3916], dtype=int32)},\n",
              " {'inputs': array([11003,    13,    16,  8603,  2717,    16,  1353,    13, 19680,\n",
              "             3,   122,    26,   102], dtype=int32),\n",
              "  'targets': array([17353,    18, 15599,     7,    17], dtype=int32)},\n",
              " {'inputs': array([  113,    47,     8,   163,   178,  2753,   113,     7, 18573,\n",
              "            47,    92,  2753], dtype=int32),\n",
              "  'targets': array([15717, 20429], dtype=int32)},\n",
              " {'inputs': array([ 113, 2832,    3,   23,  317,    3,   23,   31,   51,  352,  223],\n",
              "        dtype=int32),\n",
              "  'targets': array([ 5744,   651,  1263, 20434,    11, 12526,    15,  2671],\n",
              "        dtype=int32)}]"
            ]
          },
          "execution_count": 14,
          "metadata": {},
          "output_type": "execute_result"
        }
      ],
      "source": [
        "mixture = seqio.MixtureRegistry.get('my_simple_mixture')\n",
        "ds = mixture.get_dataset(sequence_length=None, split=\"train\", shuffle=False)\n",
        "list(ds.take(6).as_numpy_iterator())"
      ]
    },
    {
      "cell_type": "markdown",
      "metadata": {
        "id": "3U2J2ysXQshk"
      },
      "source": [
        "# s4. add feature converters\n",
        "\n",
        "Up to this point, both `Task` and `Mixture` are model-agnostic data processing. Feature converter provides a way to introduce model-specific data processing. The example feature converter below is used for encoder-decoder modeling, called `seqio.EncDecFeatureConverter`."
      ]
    },
    {
      "cell_type": "code",
      "execution_count": null,
      "metadata": {
        "executionInfo": {
          "elapsed": 836,
          "status": "ok",
          "timestamp": 1656696045262,
          "user": {
            "displayName": "",
            "userId": ""
          },
          "user_tz": 420
        },
        "id": "YGn7GewGsxXQ",
        "outputId": "12b66326-1208-485d-ab54-66e37ed7c88c"
      },
      "outputs": [
        {
          "data": {
            "text/plain": [
              "[{'inputs': array([ 113,   19,    8, 3202,   16], dtype=int32),\n",
              "  'inputs_pretokenized': b'who is the girl in more than you know',\n",
              "  'targets': array([12583,    23,  4480,  9405,    49], dtype=int32),\n",
              "  'targets_pretokenized': b'Romi Van Renterghem.'}]"
            ]
          },
          "execution_count": 15,
          "metadata": {},
          "output_type": "execute_result"
        }
      ],
      "source": [
        "fc = seqio.EncDecFeatureConverter(pack=True)\n",
        "feature_lengths = {\"inputs\": 5, \"targets\": 5}\n",
        "# Truncate inputs or targets to the length specified in feature_lengths.\n",
        "# And the truncation happens after tokenization.\n",
        "task = seqio.TaskRegistry.get('my_simple_task')\n",
        "ds = task.get_dataset(sequence_length=feature_lengths, split=\"train\", shuffle=False)\n",
        "list(ds.take(1).as_numpy_iterator())"
      ]
    },
    {
      "cell_type": "markdown",
      "metadata": {
        "id": "jE64CZJXRxl3"
      },
      "source": [
        "we check the same batch and will see it has more fields that are needed for encoder-decoder modeling."
      ]
    },
    {
      "cell_type": "code",
      "execution_count": null,
      "metadata": {
        "executionInfo": {
          "elapsed": 2201,
          "status": "ok",
          "timestamp": 1656696049174,
          "user": {
            "displayName": "",
            "userId": ""
          },
          "user_tz": 420
        },
        "id": "Ajo906ylwOnd",
        "outputId": "dc21cdb8-9e2c-4dd2-c5ba-19b591623570"
      },
      "outputs": [
        {
          "data": {
            "text/plain": [
              "[{'decoder_input_tokens': array([    0, 12583,    23,  4480,  9405], dtype=int32),\n",
              "  'decoder_loss_weights': array([1, 1, 1, 1, 1], dtype=int32),\n",
              "  'decoder_positions': array([0, 1, 2, 3, 4], dtype=int32),\n",
              "  'decoder_segment_ids': array([1, 1, 1, 1, 1], dtype=int32),\n",
              "  'decoder_target_tokens': array([12583,    23,  4480,  9405,    49], dtype=int32),\n",
              "  'encoder_input_tokens': array([ 113,   19,    8, 3202,   16], dtype=int32),\n",
              "  'encoder_positions': array([0, 1, 2, 3, 4], dtype=int32),\n",
              "  'encoder_segment_ids': array([1, 1, 1, 1, 1], dtype=int32)}]"
            ]
          },
          "execution_count": 16,
          "metadata": {},
          "output_type": "execute_result"
        }
      ],
      "source": [
        "ds = fc(ds, feature_lengths)\n",
        "list(ds.take(1).as_numpy_iterator())"
      ]
    },
    {
      "cell_type": "code",
      "execution_count": null,
      "metadata": {
        "id": "arEnnZScxKqD"
      },
      "outputs": [],
      "source": []
    }
  ],
  "metadata": {
    "colab": {
      "collapsed_sections": [],
      "last_runtime": {},
      "name": "[seqio basics] Task and Mixtures.ipynb",
      "provenance": [],
      "toc_visible": true
    },
    "kernelspec": {
      "display_name": "Python 3",
      "name": "python3"
    },
    "language_info": {
      "name": "python"
    }
  },
  "nbformat": 4,
  "nbformat_minor": 0
}
